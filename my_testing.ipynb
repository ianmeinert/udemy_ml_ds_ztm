{
 "cells": [
  {
   "attachments": {},
   "cell_type": "markdown",
   "metadata": {},
   "source": [
    "# Imports"
   ]
  },
  {
   "cell_type": "code",
   "execution_count": 77,
   "metadata": {},
   "outputs": [],
   "source": [
    "import math\n",
    "import numpy as np"
   ]
  },
  {
   "attachments": {},
   "cell_type": "markdown",
   "metadata": {},
   "source": [
    "# Constants"
   ]
  },
  {
   "cell_type": "code",
   "execution_count": 78,
   "metadata": {},
   "outputs": [],
   "source": [
    "TRAINING_SIZE = .7\n",
    "VALIDATION_SIZE = .15"
   ]
  },
  {
   "attachments": {},
   "cell_type": "markdown",
   "metadata": {},
   "source": [
    "# Exercises"
   ]
  },
  {
   "cell_type": "code",
   "execution_count": 79,
   "metadata": {},
   "outputs": [
    {
     "name": "stdout",
     "output_type": "stream",
     "text": [
      "[1, 2, 3, 4, 5, 6, 7, 8, 9, 10, 11, 12, 13, 14, 15, 16, 17, 18, 19, 20, 21, 22, 23, 24, 25, 26, 27, 28, 29, 30, 31, 32, 33, 34, 35, 36, 37, 38, 39, 40, 41, 42, 43, 44, 45, 46, 47, 48, 49, 50, 51, 52, 53, 54, 55, 56, 57, 58, 59, 60, 61, 62, 63, 64, 65, 66, 67, 68, 69, 70, 71, 72, 73, 74, 75, 76, 77, 78, 79, 80, 81, 82, 83, 84, 85, 86, 87, 88, 89, 90, 91, 92, 93, 94, 95, 96, 97, 98, 99]\n",
      "[1, 2, 3, 4, 5, 6, 7, 8, 9, 10, 11, 12, 13, 14, 15, 16, 17, 18, 19, 20, 21, 22, 23, 24, 25, 26, 27, 28, 29, 30, 31, 32, 33, 34, 35, 36, 37, 38, 39, 40, 41, 42, 43, 44, 45, 46, 47, 48, 49, 50, 51, 52, 53, 54, 55, 56, 57, 58, 59, 60, 61, 62, 63, 64, 65, 66, 67, 68, 69, 70]\n",
      "[71, 72, 73, 74, 75, 76, 77, 78, 79, 80, 81, 82, 83, 84, 85]\n",
      "[86, 87, 88, 89, 90, 91, 92, 93, 94, 95, 96, 97, 98, 99]\n"
     ]
    }
   ],
   "source": [
    "# Build sample data\n",
    "data_set = list(range(1,100))\n",
    "data_size = len(data_set)\n",
    "# Training data set\n",
    "# - Use this set for model training\n",
    "# - 70–80% of your data is the standard\n",
    "trng_limit = math.ceil(data_size*TRAINING_SIZE)\n",
    "training_data = data_set[:trng_limit]\n",
    "\n",
    "# Validation/development data set\n",
    "# - Use this set for model hyperparameter tuning and experimentation evaluation\n",
    "# - 10–15% of your data is the standard\n",
    "val_size = math.ceil(data_size*VALIDATION_SIZE)\n",
    "val_limit = trng_limit+val_size\n",
    "validation_data = data_set[trng_limit:val_limit]\n",
    "\n",
    "# Test data set\n",
    "# - Use this set for model testing and comparison\n",
    "# - 10–15% of your data is the standard.\n",
    "# - Training and test data should be separated.\n",
    "# - Test data shouldnt be used for model improvement\n",
    "test_data = data_set[val_limit:]\n",
    "\n",
    "print(data_set)\n",
    "print(training_data)\n",
    "print(validation_data)\n",
    "print(test_data)"
   ]
  },
  {
   "cell_type": "code",
   "execution_count": 130,
   "metadata": {},
   "outputs": [],
   "source": [
    "class data_model():\n",
    "    data = []\n",
    "    training_data = []\n",
    "    validation_data = []\n",
    "    test_data = []\n",
    "    \n",
    "    _TRAINING_SIZE = 0\n",
    "    _VALIDATION_SIZE = 0    \n",
    "    \n",
    "    def __init__(self, training_size=.70, validation_size=.15):\n",
    "        self._TRAINING_SIZE = training_size\n",
    "        self._VALIDATION_SIZE = validation_size\n",
    "    \n",
    "    \n",
    "    def build_models(self, data):\n",
    "        self.data = data\n",
    "        data_size = len(self.data)\n",
    "        \n",
    "        trng_limit = math.ceil(data_size*self._TRAINING_SIZE)\n",
    "        self.training_data = data[:trng_limit]\n",
    "        \n",
    "        val_size = math.ceil(data_size*self._VALIDATION_SIZE)\n",
    "        val_limit = trng_limit+val_size        \n",
    "        self.validation_data = data[trng_limit:val_limit]\n",
    "        \n",
    "        self.test_data = data[val_limit:]           "
   ]
  },
  {
   "cell_type": "code",
   "execution_count": 131,
   "metadata": {},
   "outputs": [
    {
     "name": "stdout",
     "output_type": "stream",
     "text": [
      "[1, 2, 3, 4, 5, 6, 7, 8, 9, 10, 11, 12, 13, 14, 15, 16, 17, 18, 19, 20, 21, 22, 23, 24, 25, 26, 27, 28, 29, 30, 31, 32, 33, 34, 35, 36, 37, 38, 39, 40, 41, 42, 43, 44, 45, 46, 47, 48, 49, 50, 51, 52, 53, 54, 55, 56, 57, 58, 59, 60, 61, 62, 63, 64, 65, 66, 67, 68, 69, 70, 71, 72, 73, 74, 75, 76, 77, 78, 79, 80]\n",
      "[81, 82, 83, 84, 85, 86, 87, 88, 89, 90]\n",
      "[91, 92, 93, 94, 95, 96, 97, 98, 99]\n"
     ]
    }
   ],
   "source": [
    "datamodel = data_model(.8,.1)\n",
    "datamodel.build_models(data_set)\n",
    "\n",
    "print(datamodel.training_data)\n",
    "print(datamodel.validation_data)\n",
    "print(datamodel.test_data)"
   ]
  },
  {
   "cell_type": "code",
   "execution_count": null,
   "metadata": {},
   "outputs": [],
   "source": []
  },
  {
   "cell_type": "code",
   "execution_count": null,
   "metadata": {},
   "outputs": [],
   "source": []
  }
 ],
 "metadata": {
  "kernelspec": {
   "display_name": ".venv",
   "language": "python",
   "name": "python3"
  },
  "language_info": {
   "codemirror_mode": {
    "name": "ipython",
    "version": 3
   },
   "file_extension": ".py",
   "mimetype": "text/x-python",
   "name": "python",
   "nbconvert_exporter": "python",
   "pygments_lexer": "ipython3",
   "version": "3.10.8"
  },
  "orig_nbformat": 4,
  "vscode": {
   "interpreter": {
    "hash": "61bab3e243e08f6c7503b90abd0999dfa4d5ec84e62a08ef3c26955cfa7fb0e8"
   }
  }
 },
 "nbformat": 4,
 "nbformat_minor": 2
}
